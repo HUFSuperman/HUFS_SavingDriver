{
 "cells": [
  {
   "cell_type": "code",
   "execution_count": 9,
   "metadata": {},
   "outputs": [],
   "source": [
    "import os\n",
    "import pandas as pd\n",
    "import shutil\n",
    "\n",
    "# 운전자폭행 csv\n",
    "df = pd.read_csv('./assault_label_7.csv')\n",
    "\n",
    "# 데이터 경로\n",
    "TS_path = ''"
   ]
  },
  {
   "cell_type": "code",
   "execution_count": 10,
   "metadata": {},
   "outputs": [
    {
     "name": "stdout",
     "output_type": "stream",
     "text": [
      "총 폴더수, 남길 폴더수, 삭제할 폴더 수\n",
      "all folders : 92\n",
      "remain : 25\n",
      "drop : 67\n",
      "\n"
     ]
    }
   ],
   "source": [
    "remain_folders = df[df['category_name']=='운전자폭행']['video_id'].unique()\n",
    "\n",
    "drop_folders = [f for f in os.listdir(TS_path) if f not in remain_folders]\n",
    "\n",
    "print(f'''총 폴더수, 남길 폴더수, 삭제할 폴더 수\n",
    "all folders : {len(os.listdir(TS_path))}\n",
    "remain : {len(remain_folders)}\n",
    "drop : {len(drop_folders)}\n",
    "''')"
   ]
  },
  {
   "cell_type": "markdown",
   "metadata": {},
   "source": [
    "# 삭제할 폴더들 ./drop_folders로 이동"
   ]
  },
  {
   "cell_type": "code",
   "execution_count": 7,
   "metadata": {},
   "outputs": [],
   "source": [
    "if not os.path.isdir('./drop_folders'):\n",
    "    os.mkdir('./drop_folders')\n",
    "\n",
    "for folder in drop_folders:\n",
    "    drop_path = os.path.join(TS_path, folder)\n",
    "    if os.path.isdir(drop_path):\n",
    "        shutil.move(drop_path, './drop_folders')"
   ]
  },
  {
   "cell_type": "markdown",
   "metadata": {},
   "source": [
    "# 잘 이동됐는지 확인"
   ]
  },
  {
   "cell_type": "code",
   "execution_count": 8,
   "metadata": {},
   "outputs": [
    {
     "name": "stdout",
     "output_type": "stream",
     "text": [
      "remain folders : 26\n",
      "drop_folders : 66\n",
      "\n"
     ]
    },
    {
     "data": {
      "text/plain": [
       "['SGA2101432',\n",
       " '.DS_Store',\n",
       " 'SGA2101434',\n",
       " 'SGA2101411',\n",
       " 'SGA2101416',\n",
       " 'SGA2101429',\n",
       " 'SGA2101420',\n",
       " 'SGA2101427',\n",
       " 'SGA2101418',\n",
       " 'SGA2101419',\n",
       " 'SGA2101421',\n",
       " 'SGA2101417',\n",
       " 'SGA2101410',\n",
       " 'SGA2101409',\n",
       " 'SGA2101436',\n",
       " 'SGA2101431',\n",
       " 'SGA2101452',\n",
       " 'SGA2101437',\n",
       " 'SGA2101415',\n",
       " 'SGA2101412',\n",
       " 'SGA2101424',\n",
       " 'SGA2101423',\n",
       " 'SGA2101422',\n",
       " 'SGA2101425',\n",
       " 'SGA2101413',\n",
       " 'SGA2101414']"
      ]
     },
     "execution_count": 8,
     "metadata": {},
     "output_type": "execute_result"
    }
   ],
   "source": [
    "print(f'''remain folders : {len(os.listdir(TS_path))}\n",
    "drop_folders : {len(os.listdir('./drop_folders/'))}\n",
    "''')\n",
    "\n",
    "# 맥은 .DS_Store 때문에 remain_folders에 하나 더 있음.\n",
    "os.listdir(TS_path)"
   ]
  },
  {
   "cell_type": "markdown",
   "metadata": {},
   "source": [
    "# <font color=\"#ff0000\">!!!!!!!!!!!!!!!!!!!!!!!!!!!!!!!!!!!!!</font> 삭제는 본인 마음 <font color=\"#ff0000\">!!!!!!!!!!!!!!!!!!!!!!!!!!!!!!!!!!!!!</font>"
   ]
  },
  {
   "cell_type": "code",
   "execution_count": null,
   "metadata": {},
   "outputs": [],
   "source": [
    "shutil.rmtree('./drop_folders')"
   ]
  },
  {
   "cell_type": "code",
   "execution_count": null,
   "metadata": {},
   "outputs": [],
   "source": []
  }
 ],
 "metadata": {
  "kernelspec": {
   "display_name": "dl",
   "language": "python",
   "name": "python3"
  },
  "language_info": {
   "codemirror_mode": {
    "name": "ipython",
    "version": 3
   },
   "file_extension": ".py",
   "mimetype": "text/x-python",
   "name": "python",
   "nbconvert_exporter": "python",
   "pygments_lexer": "ipython3",
   "version": "3.9.18"
  }
 },
 "nbformat": 4,
 "nbformat_minor": 2
}
