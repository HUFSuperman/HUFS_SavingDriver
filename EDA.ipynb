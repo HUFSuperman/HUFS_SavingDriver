{
 "cells": [
  {
   "cell_type": "code",
   "execution_count": 15,
   "metadata": {},
   "outputs": [],
   "source": [
    "import pandas as pd\n",
    "import numpy as np"
   ]
  },
  {
   "cell_type": "code",
   "execution_count": 16,
   "metadata": {},
   "outputs": [],
   "source": [
    "df = pd.read_csv('./validation_TL1.csv', encoding='UTF8')\n",
    "df = pd.read_csv('./validation_TL2.csv', encoding='UTF8')\n",
    "df = pd.read_csv('./validation_TL3.csv', encoding='UTF8')\n",
    "df = pd.read_csv('./validation_TL4.csv', encoding='UTF8')\n",
    "df = pd.read_csv('./validation_TL5.csv', encoding='UTF8')\n",
    "df = pd.read_csv('./validation_TL6.csv', encoding='UTF8')\n",
    "df = pd.read_csv('./validation_TL7.csv', encoding='UTF8')"
   ]
  },
  {
   "cell_type": "code",
   "execution_count": 17,
   "metadata": {},
   "outputs": [
    {
     "data": {
      "text/plain": [
       "category_id  category_name\n",
       "A007         운전자폭행            249414\n",
       "A001         졸음운전              38859\n",
       "A002         음주운전              34299\n",
       "A003         물건찾기              22895\n",
       "A004         통화                17185\n",
       "A005         휴대폰조작              6975\n",
       "A006         차량제어               4550\n",
       "Name: count, dtype: int64"
      ]
     },
     "execution_count": 17,
     "metadata": {},
     "output_type": "execute_result"
    }
   ],
   "source": [
    "df[['category_id', 'category_name']].value_counts() # 둘이 동일함, 중복되는 게 없음"
   ]
  },
  {
   "cell_type": "code",
   "execution_count": 18,
   "metadata": {},
   "outputs": [
    {
     "name": "stdout",
     "output_type": "stream",
     "text": [
      "category_name : ['물건찾기' '운전자폭행' '음주운전' '졸음운전' '차량제어' '통화' '휴대폰조작']\n"
     ]
    }
   ],
   "source": [
    "from sklearn.model_selection import train_test_split\n",
    "from sklearn.preprocessing import LabelEncoder\n",
    "\n",
    "le = LabelEncoder()\n",
    "\n",
    "df['category_id'] = le.fit_transform(df['category_name'])\n",
    "print('category_name :', le.classes_)\n",
    "df.drop(columns='category_name', inplace=True) # 중복되므로 삭제"
   ]
  },
  {
   "cell_type": "code",
   "execution_count": 19,
   "metadata": {},
   "outputs": [
    {
     "name": "stdout",
     "output_type": "stream",
     "text": [
      "occupant_sex : ['F' 'M']\n"
     ]
    }
   ],
   "source": [
    "df['occupant_sex'] = le.fit_transform(df['occupant_sex'])\n",
    "print('occupant_sex :', le.classes_)"
   ]
  },
  {
   "cell_type": "code",
   "execution_count": 20,
   "metadata": {},
   "outputs": [
    {
     "data": {
      "text/plain": [
       "array(['30대', '기타', '40대', '20대'], dtype=object)"
      ]
     },
     "execution_count": 20,
     "metadata": {},
     "output_type": "execute_result"
    }
   ],
   "source": [
    "df['occupant_age'].unique()"
   ]
  },
  {
   "cell_type": "code",
   "execution_count": 21,
   "metadata": {},
   "outputs": [
    {
     "data": {
      "text/plain": [
       "array([30,  0, 40, 20], dtype=int64)"
      ]
     },
     "execution_count": 21,
     "metadata": {},
     "output_type": "execute_result"
    }
   ],
   "source": [
    "df['occupant_age'] = df['occupant_age'].apply(lambda x: '0' if x == '기타' else x) # '기타' 0으로 변경\n",
    "df['occupant_age'] = df['occupant_age'].apply(lambda x: x[:-1] if x != '0' else x) # '30대'에서 '대' 삭제\n",
    "df['occupant_age'] = df['occupant_age'].astype(np.int64) # int로 타입 변경\n",
    "df['occupant_age'].unique()"
   ]
  },
  {
   "cell_type": "code",
   "execution_count": 22,
   "metadata": {},
   "outputs": [
    {
     "data": {
      "text/plain": [
       "array(['front', nan, 'back'], dtype=object)"
      ]
     },
     "execution_count": 22,
     "metadata": {},
     "output_type": "execute_result"
    }
   ],
   "source": [
    "df['occupant_position'].unique()"
   ]
  },
  {
   "cell_type": "code",
   "execution_count": 23,
   "metadata": {},
   "outputs": [
    {
     "data": {
      "text/plain": [
       "array([5, 4], dtype=int64)"
      ]
     },
     "execution_count": 23,
     "metadata": {},
     "output_type": "execute_result"
    }
   ],
   "source": [
    "df['data_length'].unique() # 이미지 길이 4,5만 존재"
   ]
  },
  {
   "cell_type": "code",
   "execution_count": 24,
   "metadata": {},
   "outputs": [
    {
     "name": "stdout",
     "output_type": "stream",
     "text": [
      "<class 'pandas.core.frame.DataFrame'>\n",
      "RangeIndex: 374177 entries, 0 to 374176\n",
      "Data columns (total 20 columns):\n",
      " #   Column             Non-Null Count   Dtype  \n",
      "---  ------             --------------   -----  \n",
      " 0   video_id           374177 non-null  object \n",
      " 1   date               374177 non-null  int64  \n",
      " 2   scene_id           374177 non-null  object \n",
      " 3   category_id        374177 non-null  int32  \n",
      " 4   occupant_id        374177 non-null  object \n",
      " 5   occupant_sex       374177 non-null  int32  \n",
      " 6   occupant_age       374177 non-null  int64  \n",
      " 7   occupant_position  374172 non-null  object \n",
      " 8   data_length        374177 non-null  int64  \n",
      " 9   img_id             374177 non-null  object \n",
      " 10  b_bbox1            374177 non-null  float64\n",
      " 11  b_bbox2            374177 non-null  float64\n",
      " 12  b_bbox3            374177 non-null  float64\n",
      " 13  b_bbox4            374177 non-null  float64\n",
      " 14  f_bbox1            374177 non-null  float64\n",
      " 15  f_bbox2            374177 non-null  float64\n",
      " 16  f_bbox3            374177 non-null  float64\n",
      " 17  f_bbox4            374177 non-null  float64\n",
      " 18  action             374177 non-null  object \n",
      " 19  emotion            374177 non-null  object \n",
      "dtypes: float64(8), int32(2), int64(3), object(7)\n",
      "memory usage: 54.2+ MB\n"
     ]
    }
   ],
   "source": [
    "df.info()"
   ]
  },
  {
   "cell_type": "code",
   "execution_count": 25,
   "metadata": {},
   "outputs": [],
   "source": [
    "# action, emotion 원핫 인코딩으로 변환 후\n",
    "# scene_id 또는 video_id로 묶어서 분포에 따라 데이터 분리할 지 결정"
   ]
  },
  {
   "cell_type": "code",
   "execution_count": 26,
   "metadata": {},
   "outputs": [],
   "source": [
    "# 그리고 occupant_position에 nan 값 확인"
   ]
  }
 ],
 "metadata": {
  "kernelspec": {
   "display_name": "YOLOP",
   "language": "python",
   "name": "python3"
  },
  "language_info": {
   "codemirror_mode": {
    "name": "ipython",
    "version": 3
   },
   "file_extension": ".py",
   "mimetype": "text/x-python",
   "name": "python",
   "nbconvert_exporter": "python",
   "pygments_lexer": "ipython3",
   "version": "3.9.18"
  }
 },
 "nbformat": 4,
 "nbformat_minor": 2
}
